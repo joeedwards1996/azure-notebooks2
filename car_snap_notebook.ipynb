{
 "cells": [
  {
   "cell_type": "code",
   "execution_count": 5,
   "metadata": {},
   "outputs": [
    {
     "name": "stdout",
     "output_type": "stream",
     "text": [
      "[[1430   31   64   22]\n",
      " [ 438  384   75   25]\n",
      " [1038  325   66   22]\n",
      " [ 134  626  308  102]\n",
      " [1048   42  315  105]]\n"
     ]
    }
   ],
   "source": [
    "import cv2 \n",
    "\n",
    "image = cv2.imread('./resources/images/car_snap.png')\n",
    "gray = cv2.cvtColor(image, cv2.COLOR_BGR2GRAY)\n",
    "\n",
    "n_plate_detect = cv2.CascadeClassifier(\"haarcascade_russian_plate_number.xml\")\n",
    "\n",
    "detections = n_plate_detect.detectMultiScale(gray, scaleFactor=1.05, minNeighbors=1)\n",
    "print (detections)\n",
    "\n",
    "for (x,y,w,h) in detections: \n",
    "    startPoint = (x,y)\n",
    "    endPoint = (x + w, y + h)\n",
    "    cv2.rectangle(gray, startPoint, endPoint, (0,255,255),2)\n",
    "\n",
    "    numberplate = gray[y:y + h, x:x + w]\n",
    "\n",
    "    cv2.imshow(\"image\", gray)\n",
    "    cv2.waitKey(0)\n",
    "\n",
    "    cv2.destroyAllWindows()\n"
   ]
  }
 ],
 "metadata": {
  "kernelspec": {
   "display_name": "myenv",
   "language": "python",
   "name": "python3"
  },
  "language_info": {
   "codemirror_mode": {
    "name": "ipython",
    "version": 3
   },
   "file_extension": ".py",
   "mimetype": "text/x-python",
   "name": "python",
   "nbconvert_exporter": "python",
   "pygments_lexer": "ipython3",
   "version": "3.10.2"
  },
  "orig_nbformat": 4
 },
 "nbformat": 4,
 "nbformat_minor": 2
}
