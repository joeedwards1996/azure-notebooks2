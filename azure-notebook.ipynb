{
 "cells": [
  {
   "cell_type": "code",
   "execution_count": 18,
   "metadata": {},
   "outputs": [
    {
     "name": "stdout",
     "output_type": "stream",
     "text": [
      "<_io.BufferedReader name='./output_frames/topgunframe65.jpg'>\n",
      "{'additional_properties': {}, 'name': 'sky', 'confidence': 0.99542236328125, 'hint': None}\n",
      "{'additional_properties': {}, 'name': 'transport', 'confidence': 0.9896792769432068, 'hint': None}\n",
      "{'additional_properties': {}, 'name': 'aircraft', 'confidence': 0.9862295389175415, 'hint': None}\n",
      "{'additional_properties': {}, 'name': 'outdoor', 'confidence': 0.9826352596282959, 'hint': None}\n",
      "{'additional_properties': {}, 'name': 'military aircraft', 'confidence': 0.9751375913619995, 'hint': None}\n",
      "{'additional_properties': {}, 'name': 'air force', 'confidence': 0.9731650352478027, 'hint': None}\n",
      "{'additional_properties': {}, 'name': 'airplane', 'confidence': 0.9671539068222046, 'hint': None}\n",
      "{'additional_properties': {}, 'name': 'flight', 'confidence': 0.9670467972755432, 'hint': None}\n",
      "{'additional_properties': {}, 'name': 'plane', 'confidence': 0.9638535976409912, 'hint': None}\n",
      "{'additional_properties': {}, 'name': 'vehicle', 'confidence': 0.963813066482544, 'hint': None}\n",
      "{'additional_properties': {}, 'name': 'aviation', 'confidence': 0.9627022743225098, 'hint': None}\n",
      "{'additional_properties': {}, 'name': 'air travel', 'confidence': 0.9606677293777466, 'hint': None}\n",
      "{'additional_properties': {}, 'name': 'military vehicle', 'confidence': 0.9398651123046875, 'hint': None}\n",
      "{'additional_properties': {}, 'name': 'general aviation', 'confidence': 0.931795597076416, 'hint': None}\n",
      "{'additional_properties': {}, 'name': 'cloud', 'confidence': 0.9288864135742188, 'hint': None}\n",
      "{'additional_properties': {}, 'name': 'fighter aircraft', 'confidence': 0.9267294406890869, 'hint': None}\n",
      "{'additional_properties': {}, 'name': 'jet aircraft', 'confidence': 0.9166287183761597, 'hint': None}\n",
      "{'additional_properties': {}, 'name': 'aerospace engineering', 'confidence': 0.913324236869812, 'hint': None}\n",
      "{'additional_properties': {}, 'name': 'aerospace manufacturer', 'confidence': 0.9123648405075073, 'hint': None}\n",
      "{'additional_properties': {}, 'name': 'wing', 'confidence': 0.8847614526748657, 'hint': None}\n",
      "{'additional_properties': {}, 'name': 'ground attack aircraft', 'confidence': 0.8626728057861328, 'hint': None}\n",
      "{'additional_properties': {}, 'name': 'airshow', 'confidence': 0.8490618467330933, 'hint': None}\n",
      "{'additional_properties': {}, 'name': 'air racing', 'confidence': 0.8403714299201965, 'hint': None}\n",
      "{'additional_properties': {}, 'name': 'air', 'confidence': 0.710767388343811, 'hint': None}\n",
      "{'additional_properties': {}, 'name': 'jet', 'confidence': 0.7089883089065552, 'hint': None}\n",
      "{'additional_properties': {}, 'name': 'smoke', 'confidence': 0.6087554693222046, 'hint': None}\n",
      "{'additional_properties': {}, 'name': 'fighter', 'confidence': 0.5293980836868286, 'hint': None}\n"
     ]
    }
   ],
   "source": [
    "from azure.cognitiveservices.vision.computervision import ComputerVisionClient\n",
    "from azure.cognitiveservices.vision.computervision.models import VisualFeatureTypes, Details\n",
    "from msrest.authentication import CognitiveServicesCredentials\n",
    "\n",
    "import os \n",
    "import cv2\n",
    "import requests\n",
    "\n",
    "\n",
    "key1 = 'f0aee5b0e42d488790ec3b05852f468e'\n",
    "\n",
    "credentials = CognitiveServicesCredentials(key1)\n",
    "client = ComputerVisionClient(endpoint='https://computer-vision-one.cognitiveservices.azure.com/', credentials=credentials)\n",
    "\n",
    "\n",
    "image_path = './output_frames/topgunframe65.jpg'\n",
    "image_data = open(image_path, \"rb\")\n",
    "\n",
    "image_features = [VisualFeatureTypes.tags]\n",
    "\n",
    "\n",
    "image_analysis = client.analyze_image_in_stream(image_data, image_features)\n",
    "\n",
    "\n",
    "for tag in  image_analysis.tags:\n",
    "    print(tag)\n",
    "\n",
    "\n"
   ]
  },
  {
   "cell_type": "code",
   "execution_count": 17,
   "metadata": {},
   "outputs": [
    {
     "name": "stdout",
     "output_type": "stream",
     "text": [
      "<_io.BufferedReader name='./output_frames/topgunframe65.jpg'>\n",
      "{'additional_properties': {}, 'name': 'sky', 'confidence': 0.99542236328125, 'hint': None}\n",
      "{'additional_properties': {}, 'name': 'transport', 'confidence': 0.9896792769432068, 'hint': None}\n",
      "{'additional_properties': {}, 'name': 'aircraft', 'confidence': 0.9862295389175415, 'hint': None}\n",
      "{'additional_properties': {}, 'name': 'outdoor', 'confidence': 0.9826352596282959, 'hint': None}\n",
      "{'additional_properties': {}, 'name': 'military aircraft', 'confidence': 0.9751375913619995, 'hint': None}\n",
      "{'additional_properties': {}, 'name': 'air force', 'confidence': 0.9731650352478027, 'hint': None}\n",
      "{'additional_properties': {}, 'name': 'airplane', 'confidence': 0.9671539068222046, 'hint': None}\n",
      "{'additional_properties': {}, 'name': 'flight', 'confidence': 0.9670467972755432, 'hint': None}\n",
      "{'additional_properties': {}, 'name': 'plane', 'confidence': 0.9638535976409912, 'hint': None}\n",
      "{'additional_properties': {}, 'name': 'vehicle', 'confidence': 0.963813066482544, 'hint': None}\n",
      "{'additional_properties': {}, 'name': 'aviation', 'confidence': 0.9627022743225098, 'hint': None}\n",
      "{'additional_properties': {}, 'name': 'air travel', 'confidence': 0.9606677293777466, 'hint': None}\n",
      "{'additional_properties': {}, 'name': 'military vehicle', 'confidence': 0.9398651123046875, 'hint': None}\n",
      "{'additional_properties': {}, 'name': 'general aviation', 'confidence': 0.931795597076416, 'hint': None}\n",
      "{'additional_properties': {}, 'name': 'cloud', 'confidence': 0.9288864135742188, 'hint': None}\n",
      "{'additional_properties': {}, 'name': 'fighter aircraft', 'confidence': 0.9267294406890869, 'hint': None}\n",
      "{'additional_properties': {}, 'name': 'jet aircraft', 'confidence': 0.9166287183761597, 'hint': None}\n",
      "{'additional_properties': {}, 'name': 'aerospace engineering', 'confidence': 0.913324236869812, 'hint': None}\n",
      "{'additional_properties': {}, 'name': 'aerospace manufacturer', 'confidence': 0.9123648405075073, 'hint': None}\n",
      "{'additional_properties': {}, 'name': 'wing', 'confidence': 0.8847614526748657, 'hint': None}\n",
      "{'additional_properties': {}, 'name': 'ground attack aircraft', 'confidence': 0.8626728057861328, 'hint': None}\n",
      "{'additional_properties': {}, 'name': 'airshow', 'confidence': 0.8490618467330933, 'hint': None}\n",
      "{'additional_properties': {}, 'name': 'air racing', 'confidence': 0.8403714299201965, 'hint': None}\n",
      "{'additional_properties': {}, 'name': 'air', 'confidence': 0.710767388343811, 'hint': None}\n",
      "{'additional_properties': {}, 'name': 'jet', 'confidence': 0.7089883089065552, 'hint': None}\n",
      "{'additional_properties': {}, 'name': 'smoke', 'confidence': 0.6087554693222046, 'hint': None}\n",
      "{'additional_properties': {}, 'name': 'fighter', 'confidence': 0.5293980836868286, 'hint': None}\n"
     ]
    }
   ],
   "source": [
    "\n"
   ]
  }
 ],
 "metadata": {
  "kernelspec": {
   "display_name": "myenv",
   "language": "python",
   "name": "python3"
  },
  "language_info": {
   "codemirror_mode": {
    "name": "ipython",
    "version": 3
   },
   "file_extension": ".py",
   "mimetype": "text/x-python",
   "name": "python",
   "nbconvert_exporter": "python",
   "pygments_lexer": "ipython3",
   "version": "3.10.2"
  },
  "orig_nbformat": 4
 },
 "nbformat": 4,
 "nbformat_minor": 2
}
